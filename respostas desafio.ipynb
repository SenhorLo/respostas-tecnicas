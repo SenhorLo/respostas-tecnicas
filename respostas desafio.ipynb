{
 "cells": [
  {
   "cell_type": "markdown",
   "metadata": {},
   "source": [
    "questao 1"
   ]
  },
  {
   "cell_type": "code",
   "execution_count": 3,
   "metadata": {},
   "outputs": [
    {
     "name": "stdout",
     "output_type": "stream",
     "text": [
      "91\n"
     ]
    }
   ],
   "source": [
    "INDICE = 13\n",
    "SOMA = 0\n",
    "K = 0\n",
    "\n",
    "while K < INDICE:\n",
    "    K += 1\n",
    "    SOMA += K\n",
    "\n",
    "print(SOMA)\n"
   ]
  },
  {
   "cell_type": "markdown",
   "metadata": {},
   "source": [
    "questao 2"
   ]
  },
  {
   "cell_type": "code",
   "execution_count": 2,
   "metadata": {},
   "outputs": [
    {
     "name": "stdout",
     "output_type": "stream",
     "text": [
      "O número 21 pertence a sequência de Fibonacci.\n"
     ]
    }
   ],
   "source": [
    "def is_fibonacci(n):\n",
    "    a, b = 0, 1\n",
    "    if n == 0 or n == 1:\n",
    "        return True\n",
    "    while b < n:\n",
    "        a, b = b, a + b\n",
    "    return b == n\n",
    "\n",
    "\n",
    "numero = 21\n",
    "\n",
    "\n",
    "if is_fibonacci(numero):\n",
    "    print(f\"O número {numero} pertence a sequência de Fibonacci.\")\n",
    "else:\n",
    "    print(f\"O número {numero} NÃO pertence a sequência de Fibonacci.\")\n"
   ]
  },
  {
   "cell_type": "markdown",
   "metadata": {},
   "source": [
    "questao 3"
   ]
  },
  {
   "cell_type": "code",
   "execution_count": 1,
   "metadata": {},
   "outputs": [
    {
     "data": {
      "text/plain": [
       "{'menor_faturamento': 100, 'maior_faturamento': 500, 'dias_acima_da_media': 2}"
      ]
     },
     "execution_count": 1,
     "metadata": {},
     "output_type": "execute_result"
    }
   ],
   "source": [
    "import json\n",
    "\n",
    "dados_faturamento = '''\n",
    "{\n",
    "  \"faturamento_diario\": [\n",
    "    {\"dia\": 1, \"valor\": 200},\n",
    "    {\"dia\": 2, \"valor\": 0},\n",
    "    {\"dia\": 3, \"valor\": 300},\n",
    "    {\"dia\": 4, \"valor\": 100},\n",
    "    {\"dia\": 5, \"valor\": 0},\n",
    "    {\"dia\": 6, \"valor\": 500},\n",
    "    {\"dia\": 7, \"valor\": 0},\n",
    "    {\"dia\": 8, \"valor\": 250}\n",
    "  ]\n",
    "}\n",
    "'''\n",
    "\n",
    "\n",
    "dados = json.loads(dados_faturamento)\n",
    "faturamento_diario = [dia[\"valor\"] for dia in dados[\"faturamento_diario\"] if dia[\"valor\"] > 0]\n",
    "\n",
    "\n",
    "menor_faturamento = min(faturamento_diario)\n",
    "\n",
    "\n",
    "maior_faturamento = max(faturamento_diario)\n",
    "\n",
    "\n",
    "media_mensal = sum(faturamento_diario) / len(faturamento_diario)\n",
    "\n",
    "\n",
    "dias_acima_da_media = sum(1 for valor in faturamento_diario if valor > media_mensal)\n",
    "\n",
    "\n",
    "resultado = {\n",
    "    \"menor_faturamento\": menor_faturamento,\n",
    "    \"maior_faturamento\": maior_faturamento,\n",
    "    \"dias_acima_da_media\": dias_acima_da_media\n",
    "}\n",
    "\n",
    "resultado\n"
   ]
  },
  {
   "cell_type": "markdown",
   "metadata": {},
   "source": [
    "questao 4\n"
   ]
  },
  {
   "cell_type": "code",
   "execution_count": 2,
   "metadata": {},
   "outputs": [
    {
     "name": "stdout",
     "output_type": "stream",
     "text": [
      "SP: 37.53%\n",
      "RJ: 20.29%\n",
      "MG: 16.17%\n",
      "ES: 15.03%\n",
      "Outros: 10.98%\n"
     ]
    }
   ],
   "source": [
    "\n",
    "faturamento_estados = {\n",
    "    \"SP\": 67836.43,\n",
    "    \"RJ\": 36678.66,\n",
    "    \"MG\": 29229.88,\n",
    "    \"ES\": 27165.48,\n",
    "    \"Outros\": 19849.53\n",
    "}\n",
    "\n",
    "\n",
    "faturamento_total = sum(faturamento_estados.values())\n",
    "\n",
    "percentuais = {estado: (valor / faturamento_total) * 100 for estado, valor in faturamento_estados.items()}\n",
    "\n",
    "for estado, percentual in percentuais.items():\n",
    "    print(f\"{estado}: {percentual:.2f}%\")\n"
   ]
  },
  {
   "cell_type": "markdown",
   "metadata": {},
   "source": [
    "questao 5\n"
   ]
  },
  {
   "cell_type": "code",
   "execution_count": 3,
   "metadata": {},
   "outputs": [
    {
     "name": "stdout",
     "output_type": "stream",
     "text": [
      "gnirts ed olpmexE\n"
     ]
    }
   ],
   "source": [
    "\n",
    "string_original = \"Exemplo de string\"\n",
    "\n",
    "\n",
    "string_invertida = \"\"\n",
    "\n",
    "\n",
    "for caractere in string_original:\n",
    "    string_invertida = caractere + string_invertida  \n",
    "\n",
    "\n",
    "print(string_invertida)\n"
   ]
  }
 ],
 "metadata": {
  "kernelspec": {
   "display_name": "Python 3",
   "language": "python",
   "name": "python3"
  },
  "language_info": {
   "codemirror_mode": {
    "name": "ipython",
    "version": 3
   },
   "file_extension": ".py",
   "mimetype": "text/x-python",
   "name": "python",
   "nbconvert_exporter": "python",
   "pygments_lexer": "ipython3",
   "version": "3.12.3"
  }
 },
 "nbformat": 4,
 "nbformat_minor": 2
}
